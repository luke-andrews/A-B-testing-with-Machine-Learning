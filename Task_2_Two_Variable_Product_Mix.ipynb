{
  "nbformat": 4,
  "nbformat_minor": 0,
  "metadata": {
    "colab": {
      "name": "Task 1 - Introduction.ipynb",
      "provenance": [],
      "authorship_tag": "ABX9TyPezOp+bwd03JCmcuL8CcJ7",
      "include_colab_link": true
    },
    "kernelspec": {
      "name": "python3",
      "display_name": "Python 3"
    }
  },
  "cells": [
    {
      "cell_type": "markdown",
      "metadata": {
        "id": "view-in-github",
        "colab_type": "text"
      },
      "source": [
        "<a href=\"https://colab.research.google.com/github/luke-andrews/A-B-testing-with-Machine-Learning/blob/master/Task_2_Two_Variable_Product_Mix.ipynb\" target=\"_parent\"><img src=\"https://colab.research.google.com/assets/colab-badge.svg\" alt=\"Open In Colab\"/></a>"
      ]
    },
    {
      "cell_type": "markdown",
      "metadata": {
        "id": "WkAuV0v7Rh7v"
      },
      "source": [
        "\r\n",
        "\r\n",
        "---\r\n",
        "\r\n",
        "\r\n",
        "# **Linear Programming Concepts**\r\n",
        "\r\n",
        "\r\n",
        "---\r\n",
        "\r\n",
        "\r\n",
        "- **Objective**\r\n",
        " - Maximise / Minimise / Target\r\n",
        "- **Constraints**\r\n",
        " - xx\r\n",
        " - xx\r\n",
        " - xx\r\n",
        "- **Decision Variables**\r\n",
        " - yy \r\n",
        " - yy\r\n",
        " - yy\r\n"
      ]
    },
    {
      "cell_type": "markdown",
      "metadata": {
        "id": "rb61qUfoSgML"
      },
      "source": [
        "## Problem 1: Maximise overall profit - two variable product mix\r\n",
        "\r\n",
        "\r\n",
        "---\r\n",
        "\r\n",
        "\r\n",
        "- **Objective**\r\n",
        " - Maximise xxxx\r\n",
        "- **Constraints**\r\n",
        " - Subject to the following constraints:\r\n",
        " - xx\r\n",
        " - xx\r\n",
        "- **Decision Variables**\r\n",
        " - Quantity of Product A to sell\r\n",
        " - Quantity of Product B to sell\r\n"
      ]
    },
    {
      "cell_type": "code",
      "metadata": {
        "colab": {
          "base_uri": "https://localhost:8080/",
          "height": 425
        },
        "id": "Y0SJjrsEP_lb",
        "outputId": "91514a91-2a26-4016-894c-245b1b96e867"
      },
      "source": [
        "!pip install ortools"
      ],
      "execution_count": 1,
      "outputs": [
        {
          "output_type": "stream",
          "text": [
            "Collecting ortools\n",
            "\u001b[?25l  Downloading https://files.pythonhosted.org/packages/63/94/2832edee6f4fb4e77e8585b6034f9506be24361fe6ead4e76de38ab0a666/ortools-8.1.8487-cp36-cp36m-manylinux1_x86_64.whl (14.0MB)\n",
            "\u001b[K     |████████████████████████████████| 14.0MB 308kB/s \n",
            "\u001b[?25hCollecting absl-py>=0.11\n",
            "\u001b[?25l  Downloading https://files.pythonhosted.org/packages/bc/58/0aa6fb779dc69cfc811df3398fcbeaeefbf18561b6e36b185df0782781cc/absl_py-0.11.0-py3-none-any.whl (127kB)\n",
            "\u001b[K     |████████████████████████████████| 133kB 47.0MB/s \n",
            "\u001b[?25hCollecting protobuf>=3.14.0\n",
            "\u001b[?25l  Downloading https://files.pythonhosted.org/packages/5b/e8/7239457c293cf68dd2e9139a3f678080c8bd31fda1c99ec9a145b9c393c3/protobuf-3.15.1-cp36-cp36m-manylinux1_x86_64.whl (1.0MB)\n",
            "\u001b[K     |████████████████████████████████| 1.0MB 42.0MB/s \n",
            "\u001b[?25hRequirement already satisfied: six in /usr/local/lib/python3.6/dist-packages (from absl-py>=0.11->ortools) (1.15.0)\n",
            "\u001b[31mERROR: tensorflow-metadata 0.27.0 has requirement absl-py<0.11,>=0.9, but you'll have absl-py 0.11.0 which is incompatible.\u001b[0m\n",
            "Installing collected packages: absl-py, protobuf, ortools\n",
            "  Found existing installation: absl-py 0.10.0\n",
            "    Uninstalling absl-py-0.10.0:\n",
            "      Successfully uninstalled absl-py-0.10.0\n",
            "  Found existing installation: protobuf 3.12.4\n",
            "    Uninstalling protobuf-3.12.4:\n",
            "      Successfully uninstalled protobuf-3.12.4\n",
            "Successfully installed absl-py-0.11.0 ortools-8.1.8487 protobuf-3.15.1\n"
          ],
          "name": "stdout"
        },
        {
          "output_type": "display_data",
          "data": {
            "application/vnd.colab-display-data+json": {
              "pip_warning": {
                "packages": [
                  "google"
                ]
              }
            }
          },
          "metadata": {
            "tags": []
          }
        }
      ]
    },
    {
      "cell_type": "code",
      "metadata": {
        "id": "waw4VrJlQbyO"
      },
      "source": [
        "from ortools.linear_solver import pywraplp"
      ],
      "execution_count": 1,
      "outputs": []
    },
    {
      "cell_type": "code",
      "metadata": {
        "id": "wAhH8LI7Qumz"
      },
      "source": [
        "# Create the linear solver with the GLOP backend.\r\n",
        "solver = pywraplp.Solver.CreateSolver('GLOP')"
      ],
      "execution_count": 2,
      "outputs": []
    },
    {
      "cell_type": "code",
      "metadata": {
        "id": "zSMKxRpRRPO7"
      },
      "source": [
        ""
      ],
      "execution_count": null,
      "outputs": []
    }
  ]
}